{
 "cells": [
  {
   "cell_type": "markdown",
   "metadata": {},
   "source": [
    "# Download Kinetics sample"
   ]
  },
  {
   "cell_type": "code",
   "execution_count": 115,
   "metadata": {},
   "outputs": [],
   "source": [
    "import argparse\n",
    "import glob\n",
    "import json\n",
    "import os\n",
    "import shutil\n",
    "import subprocess\n",
    "import uuid\n",
    "from collections import OrderedDict\n",
    "\n",
    "from joblib import delayed\n",
    "from joblib import Parallel\n",
    "import pandas as pd\n"
   ]
  },
  {
   "cell_type": "code",
   "execution_count": 116,
   "metadata": {},
   "outputs": [
    {
     "name": "stdout",
     "output_type": "stream",
     "text": [
      "Python 2.7.13 :: Anaconda, Inc.\r\n"
     ]
    }
   ],
   "source": [
    "!python --version"
   ]
  },
  {
   "cell_type": "code",
   "execution_count": 117,
   "metadata": {},
   "outputs": [],
   "source": [
    "def create_video_folders(dataset, output_dir, tmp_dir):\n",
    "    \"\"\"Creates a directory for each label name in the dataset.\"\"\"\n",
    "    if 'label-name' not in dataset.columns:\n",
    "        this_dir = os.path.join(output_dir, 'test')\n",
    "        if not os.path.exists(this_dir):\n",
    "            os.makedirs(this_dir)\n",
    "        # I should return a dict but ...\n",
    "        return this_dir\n",
    "    if not os.path.exists(output_dir):\n",
    "        os.makedirs(output_dir)\n",
    "    if not os.path.exists(tmp_dir):\n",
    "        os.makedirs(tmp_dir)\n",
    "\n",
    "    label_to_dir = {}\n",
    "    for label_name in dataset['label-name'].unique():\n",
    "        this_dir = os.path.join(output_dir, label_name)\n",
    "        if not os.path.exists(this_dir):\n",
    "            os.makedirs(this_dir)\n",
    "        label_to_dir[label_name] = this_dir\n",
    "    return label_to_dir"
   ]
  },
  {
   "cell_type": "code",
   "execution_count": 118,
   "metadata": {},
   "outputs": [],
   "source": [
    "def construct_video_filename(row, label_to_dir, trim_format='%06d'):\n",
    "    \"\"\"Given a dataset row, this function constructs the\n",
    "       output filename for a given video.\n",
    "    \"\"\"\n",
    "    basename = '%s_%s_%s.mp4' % (row['video-id'],\n",
    "                                 trim_format % row['start-time'],\n",
    "                                 trim_format % row['end-time'])\n",
    "    if not isinstance(label_to_dir, dict):\n",
    "        dirname = label_to_dir\n",
    "    else:\n",
    "        dirname = label_to_dir[row['label-name']]\n",
    "    output_filename = os.path.join(dirname, basename)\n",
    "    return output_filename"
   ]
  },
  {
   "cell_type": "code",
   "execution_count": 119,
   "metadata": {},
   "outputs": [],
   "source": [
    "def download_clip(video_identifier, output_filename,\n",
    "                  start_time, end_time,\n",
    "                  tmp_dir='/tmp/kinetics',\n",
    "                  num_attempts=5,\n",
    "                  url_base='https://www.youtube.com/watch?v='):\n",
    "    \"\"\"Download a video from youtube if exists and is not blocked.\n",
    "    arguments:\n",
    "    ---------\n",
    "    video_identifier: str\n",
    "        Unique YouTube video identifier (11 characters)\n",
    "    output_filename: str\n",
    "        File path where the video will be stored.\n",
    "    start_time: float\n",
    "        Indicates the begining time in seconds from where the video\n",
    "        will be trimmed.\n",
    "    end_time: float\n",
    "        Indicates the ending time in seconds of the trimmed video.\n",
    "    \"\"\"\n",
    "    # Defensive argument checking.\n",
    "    assert isinstance(video_identifier, str), 'video_identifier must be string'\n",
    "    assert isinstance(output_filename, str), 'output_filename must be string'\n",
    "    assert len(video_identifier) == 11, 'video_identifier must have length 11'\n",
    "\n",
    "    status = False\n",
    "    # Construct command line for getting the direct video link.\n",
    "    tmp_filename = os.path.join(tmp_dir,\n",
    "                                '%s.%%(ext)s' % uuid.uuid4())\n",
    "    command = ['youtube-dl',\n",
    "               '--quiet', '--no-warnings',\n",
    "               '-f', 'mp4',\n",
    "               '-o', '\"%s\"' % tmp_filename,\n",
    "               '\"%s\"' % (url_base + video_identifier)]\n",
    "    command = ' '.join(command)\n",
    "    attempts = 0\n",
    "    while True:\n",
    "        try:\n",
    "            output = subprocess.check_output(command, shell=True,\n",
    "                                             stderr=subprocess.STDOUT)\n",
    "        except subprocess.CalledProcessError as err:\n",
    "            attempts += 1\n",
    "            if attempts == num_attempts:\n",
    "                return status, err.output\n",
    "        else:\n",
    "            break\n",
    "\n",
    "    tmp_filename = glob.glob('%s*' % tmp_filename.split('.')[0])[0]\n",
    "    # Construct command to trim the videos (ffmpeg required).\n",
    "    command = ['ffmpeg',\n",
    "               '-i', '\"%s\"' % tmp_filename,\n",
    "               '-ss', str(start_time),\n",
    "               '-t', str(end_time - start_time),\n",
    "               '-c:v', 'libx264', '-c:a', 'copy',\n",
    "               '-threads', '1',\n",
    "               '-loglevel', 'panic',\n",
    "               '\"%s\"' % output_filename]\n",
    "    command = ' '.join(command)\n",
    "    try:\n",
    "        output = subprocess.check_output(command, shell=True,\n",
    "                                         stderr=subprocess.STDOUT)\n",
    "    except subprocess.CalledProcessError as err:\n",
    "        return status, err.output\n",
    "\n",
    "    # Check if the video was successfully saved.\n",
    "    status = os.path.exists(output_filename)\n",
    "    os.remove(tmp_filename)\n",
    "    return status, 'Downloaded'"
   ]
  },
  {
   "cell_type": "code",
   "execution_count": 120,
   "metadata": {},
   "outputs": [],
   "source": [
    "def download_clip_wrapper(row, label_to_dir, trim_format, tmp_dir):\n",
    "    \"\"\"Wrapper for parallel processing purposes.\"\"\"\n",
    "    output_filename = construct_video_filename(row, label_to_dir,\n",
    "                                               trim_format)\n",
    "    clip_id = os.path.basename(output_filename).split('.mp4')[0]\n",
    "    if os.path.exists(output_filename):\n",
    "        status = tuple([clip_id, True, 'Exists'])\n",
    "        return status\n",
    "\n",
    "    downloaded, log = download_clip(row['video-id'], output_filename,\n",
    "                                    row['start-time'], row['end-time'],\n",
    "                                    tmp_dir=tmp_dir)\n",
    "    status = tuple([clip_id, downloaded, log])\n",
    "    return status"
   ]
  },
  {
   "cell_type": "code",
   "execution_count": 121,
   "metadata": {},
   "outputs": [],
   "source": [
    "def parse_kinetics_annotations(input_csv, ignore_is_cc=False):\n",
    "    \"\"\"Returns a parsed DataFrame.\n",
    "    arguments:\n",
    "    ---------\n",
    "    input_csv: str\n",
    "        Path to CSV file containing the following columns:\n",
    "          'YouTube Identifier,Start time,End time,Class label'\n",
    "    returns:\n",
    "    -------\n",
    "    dataset: DataFrame\n",
    "        Pandas with the following columns:\n",
    "            'video-id', 'start-time', 'end-time', 'label-name'\n",
    "    \"\"\"\n",
    "    df = pd.read_csv(input_csv)\n",
    "    if 'youtube_id' in df.columns:\n",
    "        columns = OrderedDict([\n",
    "            ('youtube_id', 'video-id'),\n",
    "            ('time_start', 'start-time'),\n",
    "            ('time_end', 'end-time'),\n",
    "            ('label', 'label-name')])\n",
    "        df.rename(columns=columns, inplace=True)\n",
    "        if ignore_is_cc:\n",
    "            df = df.loc[:, df.columns.tolist()[:-1]]\n",
    "    return df"
   ]
  },
  {
   "cell_type": "code",
   "execution_count": 122,
   "metadata": {},
   "outputs": [],
   "source": [
    "def main(input_csv, output_dir,\n",
    "         trim_format='%06d', num_jobs=24, tmp_dir='/tmp/kinetics',\n",
    "         drop_duplicates=False):\n",
    "\n",
    "    # Reading and parsing Kinetics.\n",
    "    dataset = parse_kinetics_annotations(input_csv)\n",
    "    # if os.path.isfile(drop_duplicates):\n",
    "    #     print('Attempt to remove duplicates')\n",
    "    #     old_dataset = parse_kinetics_annotations(drop_duplicates,\n",
    "    #                                              ignore_is_cc=True)\n",
    "    #     df = pd.concat([dataset, old_dataset], axis=0, ignore_index=True)\n",
    "    #     df.drop_duplicates(inplace=True, keep=False)\n",
    "    #     print(dataset.shape, old_dataset.shape)\n",
    "    #     dataset = df\n",
    "    #     print(dataset.shape)\n",
    "\n",
    "    # Creates folders where videos will be saved later.\n",
    "    label_to_dir = create_video_folders(dataset, output_dir, tmp_dir)\n",
    "\n",
    "    # Download all clips.\n",
    "    if num_jobs == 1:\n",
    "        status_lst = []\n",
    "        for i, row in dataset.iterrows():\n",
    "            status_lst.append(download_clip_wrapper(row, label_to_dir,\n",
    "                                                    trim_format, tmp_dir))\n",
    "    else:\n",
    "        status_lst = Parallel(n_jobs=num_jobs)(delayed(download_clip_wrapper)(\n",
    "            row, label_to_dir,\n",
    "            trim_format, tmp_dir) for i, row in dataset.iterrows())\n",
    "\n",
    "    # Clean tmp dir.\n",
    "    shutil.rmtree(tmp_dir)\n",
    "\n",
    "    # Save download report.\n",
    "    with open('download_report.json', 'w') as fobj:\n",
    "        fobj.write(json.dumps(status_lst))"
   ]
  },
  {
   "cell_type": "code",
   "execution_count": 123,
   "metadata": {},
   "outputs": [],
   "source": [
    "input_csv = 'kinetics-400_val_8videos.csv'\n",
    "output_dir = './data/kinetics_videos/'\n",
    "trim_format='%06d'\n",
    "num_jobs=24\n",
    "tmp_dir='/tmp/kinetics'\n",
    "drop_duplicates=False"
   ]
  },
  {
   "cell_type": "code",
   "execution_count": 125,
   "metadata": {},
   "outputs": [],
   "source": [
    "main(input_csv, output_dir,trim_format, num_jobs, tmp_dir,drop_duplicates)"
   ]
  }
 ],
 "metadata": {
  "kernelspec": {
   "display_name": "Python 2",
   "language": "python",
   "name": "python2"
  },
  "language_info": {
   "codemirror_mode": {
    "name": "ipython",
    "version": 2
   },
   "file_extension": ".py",
   "mimetype": "text/x-python",
   "name": "python",
   "nbconvert_exporter": "python",
   "pygments_lexer": "ipython2",
   "version": "2.7.13"
  }
 },
 "nbformat": 4,
 "nbformat_minor": 4
}
